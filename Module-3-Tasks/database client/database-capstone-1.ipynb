{
 "cells": [
  {
   "cell_type": "code",
   "execution_count": 11,
   "id": "7c47f81a-479d-4327-9cf1-af11044f65f8",
   "metadata": {},
   "outputs": [],
   "source": [
    "import mysql.connector as connector\n",
    "from mysql.connector import Error"
   ]
  },
  {
   "cell_type": "code",
   "execution_count": 12,
   "id": "081e26d3-4e13-40fd-9c5b-7055fb998856",
   "metadata": {},
   "outputs": [
    {
     "name": "stdout",
     "output_type": "stream",
     "text": [
      "Connection between MySQL and Python is established.\n",
      "\n"
     ]
    }
   ],
   "source": [
    "try:\n",
    "    connection=connector.connect(user=\"littleLemon\",password=\"lemon\")\n",
    "except Error as er:\n",
    "    print(er.msg)\n",
    "\n",
    "print(\"Connection between MySQL and Python is established.\\n\")"
   ]
  },
  {
   "cell_type": "code",
   "execution_count": 13,
   "id": "887b564f-8ef1-41f1-9e0e-2782bfd0ec28",
   "metadata": {},
   "outputs": [
    {
     "name": "stdout",
     "output_type": "stream",
     "text": [
      "Cursor is created to communicate with the MySQL using Python.\n"
     ]
    }
   ],
   "source": [
    "# Creating cursor object to communicate with entire MySQL database\n",
    "\n",
    "cursor = connection.cursor()\n",
    "print(\"Cursor is created to communicate with the MySQL using Python.\")"
   ]
  },
  {
   "cell_type": "code",
   "execution_count": 14,
   "id": "9bb56fe0-6893-48c4-9722-7286b2967ba4",
   "metadata": {},
   "outputs": [
    {
     "name": "stdout",
     "output_type": "stream",
     "text": [
      "The database LittleLemonDB is set for use.\n"
     ]
    }
   ],
   "source": [
    "# Set LittleLemonDB database for use\n",
    "\n",
    "cursor.execute(\"USE LittleLemonDB\")\n",
    "connection.database\n",
    "print(\"The database LittleLemonDB is set for use.\")"
   ]
  },
  {
   "cell_type": "code",
   "execution_count": 15,
   "id": "3638b289-af76-4c22-aa95-7bdde646734c",
   "metadata": {},
   "outputs": [
    {
     "name": "stdout",
     "output_type": "stream",
     "text": [
      "('Tables_in_littlelemondb',)\n",
      "('bookings',)\n",
      "('customer',)\n",
      "('menuitem',)\n",
      "('menuitemrelation',)\n",
      "('menus',)\n",
      "('orderdeliverystatus',)\n",
      "('orderdetails',)\n",
      "('orders',)\n",
      "('ordersview',)\n",
      "('staff',)\n",
      "('staffandorder',)\n"
     ]
    }
   ],
   "source": [
    "show_tables_query = \"SHOW TABLES;\" \n",
    "\n",
    "cursor.execute(show_tables_query)\n",
    "\n",
    "results=cursor.fetchall()\n",
    "\n",
    "columns=cursor.column_names\n",
    "\n",
    "print(columns)\n",
    "for result in results:\n",
    "    print(result)"
   ]
  },
  {
   "cell_type": "code",
   "execution_count": 20,
   "id": "777aaaed-0422-41c9-a01e-3729ea0438f8",
   "metadata": {},
   "outputs": [],
   "source": [
    "join_query = \"\"\" SELECT Customer.CustomerName,\n",
    "Customer.PhoneNumber,\n",
    "Customer.EmailID,\n",
    "Orders.TotalCost\n",
    "FROM Customer\n",
    "LEFT JOIN Orders\n",
    "ON Customer.CustomerID = Orders.CustomerID\n",
    "WHERE Orders.TotalCost > 60;\n",
    "\"\"\""
   ]
  },
  {
   "cell_type": "code",
   "execution_count": 21,
   "id": "c1f0d96d-a9f9-4e34-b8d2-569a66026bfb",
   "metadata": {},
   "outputs": [],
   "source": [
    "cursor.execute(join_query)"
   ]
  },
  {
   "cell_type": "code",
   "execution_count": 22,
   "id": "29e337df-06ac-498f-8ebf-2e75e2cc9c56",
   "metadata": {},
   "outputs": [],
   "source": [
    "results = cursor.fetchall()"
   ]
  },
  {
   "cell_type": "code",
   "execution_count": 23,
   "id": "178f3cf3-bbda-423c-ac82-bb4b2e9f2a76",
   "metadata": {},
   "outputs": [],
   "source": [
    "columns=cursor.column_names"
   ]
  },
  {
   "cell_type": "code",
   "execution_count": 24,
   "id": "c2107b2d-3f15-4bc2-8c8d-5e830da3b0e1",
   "metadata": {},
   "outputs": [
    {
     "name": "stdout",
     "output_type": "stream",
     "text": [
      "('CustomerName', 'PhoneNumber', 'EmailID', 'TotalCost')\n",
      "('John Doe', '123-456-7890', 'john.doe@example.com', Decimal('250'))\n",
      "('Jane Smith', '987-654-3210', 'jane.smith@example.com', Decimal('275'))\n",
      "('Michael Johnson', '111-222-3333', 'michael.johnson@example.com', Decimal('225'))\n"
     ]
    }
   ],
   "source": [
    "print(columns)\n",
    "for result in results:\n",
    "    print(result)"
   ]
  },
  {
   "cell_type": "code",
   "execution_count": 25,
   "id": "5554029b-cada-424c-bfc6-5881991b4e9f",
   "metadata": {},
   "outputs": [
    {
     "name": "stdout",
     "output_type": "stream",
     "text": [
      "The cursor is closed.\n",
      "MySQL connection is closed.\n"
     ]
    }
   ],
   "source": [
    "if connection.is_connected():\n",
    "    cursor.close()\n",
    "    print(\"The cursor is closed.\")\n",
    "    connection.close()\n",
    "    print(\"MySQL connection is closed.\")\n",
    "else:\n",
    "    print(\"Connection is already closed\")"
   ]
  },
  {
   "cell_type": "code",
   "execution_count": null,
   "id": "afcd0b28-4f82-45fc-a2d2-6f5f20c55891",
   "metadata": {},
   "outputs": [],
   "source": []
  }
 ],
 "metadata": {
  "kernelspec": {
   "display_name": "Python 3 (ipykernel)",
   "language": "python",
   "name": "python3"
  },
  "language_info": {
   "codemirror_mode": {
    "name": "ipython",
    "version": 3
   },
   "file_extension": ".py",
   "mimetype": "text/x-python",
   "name": "python",
   "nbconvert_exporter": "python",
   "pygments_lexer": "ipython3",
   "version": "3.11.4"
  }
 },
 "nbformat": 4,
 "nbformat_minor": 5
}
